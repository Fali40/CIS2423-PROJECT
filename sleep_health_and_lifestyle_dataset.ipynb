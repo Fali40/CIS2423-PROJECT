{
  "nbformat": 4,
  "nbformat_minor": 0,
  "metadata": {
    "colab": {
      "provenance": [],
      "include_colab_link": true
    },
    "kernelspec": {
      "name": "python3",
      "display_name": "Python 3"
    },
    "language_info": {
      "name": "python"
    }
  },
  "cells": [
    {
      "cell_type": "markdown",
      "metadata": {
        "id": "view-in-github",
        "colab_type": "text"
      },
      "source": [
        "<a href=\"https://colab.research.google.com/github/Fali40/CIS2423-PROJECT/blob/main/sleep_health_and_lifestyle_dataset.ipynb\" target=\"_parent\"><img src=\"https://colab.research.google.com/assets/colab-badge.svg\" alt=\"Open In Colab\"/></a>"
      ]
    },
    {
      "cell_type": "markdown",
      "source": [
        "#**CLO 2**"
      ],
      "metadata": {
        "id": "I6ncIQ4E4ROP"
      }
    },
    {
      "cell_type": "markdown",
      "source": [
        "**6. Create a script to develop a Python function for descriptive statistics. The input for the function should be the sample and the field to perform the descriptive statistics.**"
      ],
      "metadata": {
        "id": "uu2-GkbJeR04"
      }
    },
    {
      "cell_type": "code",
      "source": [
        "\n"
      ],
      "metadata": {
        "id": "Z-VuBnN9ebFS"
      },
      "execution_count": null,
      "outputs": []
    },
    {
      "cell_type": "markdown",
      "source": [
        "**7. Create a program to random sampling of size 150 and find the descriptive statistics for the dependent variable from the sample [Apply the descriptive function which you created].**"
      ],
      "metadata": {
        "id": "LdFDolsCey2Q"
      }
    },
    {
      "cell_type": "code",
      "source": [
        "# Importing libraries\n",
        "import pandas as pd\n",
        "import numpy as np\n",
        "\n",
        "# Importing the dataset\n",
        "data = pd.read_csv(\"/content/Sleep_health_and_lifestyle_dataset.csv\")\n",
        "\n",
        "# Randomly sample 150 rows\n",
        "sample_size = 150\n",
        "ds= data.sample(n=sample_size, replace=False, random_state=42)\n",
        "\n",
        "# Dependent variable\n",
        "dependent_variable = \"Quality of Sleep\"\n",
        "\n",
        "# Descriptive stat function\n",
        "def Desc_stat(ds,var):\n",
        "  mean=ds[var].mean()\n",
        "  median=ds[var].median()\n",
        "  mode=ds[var].mode()\n",
        "  minimum=ds[var].min()\n",
        "  maximum=ds[var].max()\n",
        "  range=ds[var].max() - ds[var].min()\n",
        "  std_dev=ds[var].std()\n",
        "  variance=ds[var].var()\n",
        "  skew=ds[var].skew()\n",
        "  kurtosis=ds[var].kurt()\n",
        "  count=ds[var].count()\n",
        "  Quart = [\n",
        "            ds[var].quantile(0),\n",
        "            ds[var].quantile(0.25),\n",
        "            ds[var].quantile(0.50),\n",
        "            ds[var].quantile(0.75),\n",
        "            ds[var].quantile(1),\n",
        "            ds[var].quantile(0.75) - ds[var].quantile(0.25)\n",
        "          ]\n",
        "\n",
        "  summary = {\n",
        "              \"Average \": mean,\n",
        "             \"Median \": median,\n",
        "             \"Mode \": mode,\n",
        "             \"Minimum \": minimum,\n",
        "             \"Maximim \": maximum,\n",
        "             \"Range \": range,\n",
        "             \"Std Dev \": std_dev,\n",
        "             \"Variance \": variance,\n",
        "             \"Skewness \": skew,\n",
        "             \"Kurtosis \": kurtosis,\n",
        "             \"Minimum \": Quart[0],\n",
        "             \"25th Pecentile \": Quart[1],\n",
        "             \"50th Pecentile \": Quart[2],\n",
        "             \"75th Pecentile \": Quart[3],\n",
        "             \"Maximum \": Quart[4],\n",
        "             \"Inter Quartile Range \": Quart[5],\n",
        "             \"Count \": count\n",
        "\n",
        "            }\n",
        "\n",
        "  return summary\n",
        "\n",
        "\n",
        "\n",
        "#Display\n",
        "print(\"Descriptive Statistics for Quality of Sleep (random sampling 150) : \\n\")\n",
        "Desc_stat(ds, dependent_variable)"
      ],
      "metadata": {
        "id": "gzosnBXGe37x"
      },
      "execution_count": null,
      "outputs": []
    },
    {
      "cell_type": "markdown",
      "source": [
        "**8. Create a script for systematic sampling by giving certain conditions and finding the desc stat for the dependent variable from the sample [Apply the descriptive function which you created].**"
      ],
      "metadata": {
        "id": "oLsCKQsDe4W4"
      }
    },
    {
      "cell_type": "code",
      "source": [
        "# Importing libraries\n",
        "import pandas as pd\n",
        "import numpy as np\n",
        "\n",
        "# Importing the dataset\n",
        "data = pd.read_csv(\"/content/Sleep_health_and_lifestyle_dataset.csv\")\n",
        "\n",
        "# Systematic sampling function\n",
        "def systematic_sampling(data, interval):\n",
        "    return data.iloc[np.arange(np.random.randint(0, interval), len(data), interval)]\n",
        "\n",
        "# systematic sampling (every 5th observation)\n",
        "interval = 5\n",
        "systematic_sample = systematic_sampling(data, interval)\n",
        "\n",
        "# Dependent variable\n",
        "dependent_variable = \"Quality of Sleep\"\n",
        "\n",
        "\n",
        "# Descriptive stat function\n",
        "def Desc_stat(ds, var):\n",
        "    mean = ds[var].mean()\n",
        "    median = ds[var].median()\n",
        "    mode = ds[var].mode().values[0] if not ds[var].mode().empty else None\n",
        "    minimum = ds[var].min()\n",
        "    maximum = ds[var].max()\n",
        "    range_val = ds[var].max() - ds[var].min()\n",
        "    std_dev = ds[var].std()\n",
        "    variance = ds[var].var()\n",
        "    skew = ds[var].skew()\n",
        "    kurtosis = ds[var].kurt()\n",
        "    count = ds[var].count()\n",
        "    Quart = [\n",
        "        ds[var].quantile(0),\n",
        "        ds[var].quantile(0.25),\n",
        "        ds[var].quantile(0.50),\n",
        "        ds[var].quantile(0.75),\n",
        "        ds[var].quantile(1),\n",
        "        ds[var].quantile(0.75) - ds[var].quantile(0.25)\n",
        "    ]\n",
        "\n",
        "    summary = {\n",
        "        \"Average\": mean,\n",
        "        \"Median\": median,\n",
        "        \"Mode\": mode,\n",
        "        \"Minimum\": minimum,\n",
        "        \"Maximum\": maximum,\n",
        "        \"Range\": range_val,\n",
        "        \"Std Dev\": std_dev,\n",
        "        \"Variance\": variance,\n",
        "        \"Skewness\": skew,\n",
        "        \"Kurtosis\": kurtosis,\n",
        "        \"Minimum (0%)\": Quart[0],\n",
        "        \"25th Percentile\": Quart[1],\n",
        "        \"50th Percentile (Median)\": Quart[2],\n",
        "        \"75th Percentile\": Quart[3],\n",
        "        \"Maximum (100%)\": Quart[4],\n",
        "        \"Inter Quartile Range\": Quart[5],\n",
        "        \"Count\": count\n",
        "    }\n",
        "\n",
        "    return summary\n",
        "\n",
        "# Descriptive stats for the systematic sample\n",
        "desc_stats = Desc_stat(systematic_sample, dependent_variable)\n",
        "\n",
        "# Display\n",
        "print(\"Descriptive Statistics for Quality of Sleep (systematic sampling) : \\n\")\n",
        "Desc_stat(systematic_sample, dependent_variable)"
      ],
      "metadata": {
        "id": "jTkrpjaGfCYi"
      },
      "execution_count": null,
      "outputs": []
    },
    {
      "cell_type": "markdown",
      "source": [
        "**9. Create a detailed descriptive statistics report about the dependent variable of the chosen dataset.**"
      ],
      "metadata": {
        "id": "_RKRfzAM4Oun"
      }
    },
    {
      "cell_type": "code",
      "source": [
        "#importing Libraries\n",
        "import pandas as pd\n",
        "from matplotlib.colors import Normalize\n",
        "\n",
        "# Load the dataset\n",
        "ds = pd.read_csv('Sleep_health_and_lifestyle_dataset.csv')\n",
        "\n",
        "\n",
        "def desc_stat(ds, Sleep):\n",
        "    # Calculate descriptive statistics\n",
        "    count = ds[Sleep].count()\n",
        "    mean = ds[Sleep].mean()\n",
        "    median = ds[Sleep].median()\n",
        "    mode = ds[Sleep].mode()\n",
        "    minimum = ds[Sleep].min()\n",
        "    maximum = ds[Sleep].max()\n",
        "    range_val = maximum - minimum\n",
        "    std_dev = ds[Sleep].std()\n",
        "    variance = ds[Sleep].var()\n",
        "    skew = ds[Sleep].skew()\n",
        "    kurtosis = ds[Sleep].kurt()\n",
        "    quartiles = ds[Sleep].quantile([0.25, 0.50, 0.75])\n",
        "    iqr = quartiles[0.75] - quartiles[0.25]\n",
        "\n",
        "# Create a summary dictionary\n",
        "    summary = {\n",
        "        \"Count\": ds[Sleep].count(),\n",
        "        \"Mean\": mean,\n",
        "        \"Median\": median,\n",
        "        \"Mode\": mode,\n",
        "        \"Minimum\": minimum,\n",
        "        \"Maximum\": maximum,\n",
        "        \"Range\": range_val,\n",
        "        \"Standard Deviation\": std_dev,\n",
        "        \"Variance\": variance,\n",
        "        \"Skewness\": skew,\n",
        "        \"Kurtosis\": kurtosis,\n",
        "        \"25th Percentile\": quartiles[0.25],\n",
        "        \"50th Percentile (Median)\": quartiles[0.50],\n",
        "        \"75th Percentile\": quartiles[0.75],\n",
        "        \"Interquartile Range (IQR)\": iqr\n",
        "    }\n",
        "\n",
        "    return summary\n",
        "\n",
        "summary = desc_stat(ds, 'Quality of Sleep')\n",
        "\n",
        "# Print the report\n",
        "print(\"Descriptive Statistics Report for 'Quality of Sleep':\")\n",
        "for key, value in summary.items():\n",
        "    print(f\"{key}: {value}\")\n",
        "\n",
        "\n"
      ],
      "metadata": {
        "colab": {
          "base_uri": "https://localhost:8080/"
        },
        "id": "cKZmZ0WH4mSB",
        "outputId": "81e56265-35ee-4945-a2a6-0bfe4e6b0dd7"
      },
      "execution_count": null,
      "outputs": [
        {
          "output_type": "stream",
          "name": "stdout",
          "text": [
            "Descriptive Statistics Report for 'Quality of Sleep':\n",
            "Count: 374\n",
            "Mean: 7.31283422459893\n",
            "Median: 7.0\n",
            "Mode: 0    8\n",
            "Name: Quality of Sleep, dtype: int64\n",
            "Minimum: 4\n",
            "Maximum: 9\n",
            "Range: 5\n",
            "Standard Deviation: 1.1969559197336044\n",
            "Variance: 1.4327034737853186\n",
            "Skewness: -0.20744763173836073\n",
            "Kurtosis: -0.7482755418548042\n",
            "25th Percentile: 6.0\n",
            "50th Percentile (Median): 7.0\n",
            "75th Percentile: 8.0\n",
            "Interquartile Range (IQR): 2.0\n"
          ]
        }
      ]
    },
    {
      "cell_type": "markdown",
      "source": [
        " **10. Visualize the dependent variable by the Graph/Chart of the following using Python Program: a. Scatter plot b. Box Plot c. Histogram d. Heat Map Hint: Use Matplot or Ski-learn library**"
      ],
      "metadata": {
        "id": "U_aDqbv-4pu9"
      }
    },
    {
      "cell_type": "code",
      "source": [
        "#importing Libraries\n",
        "import pandas as pd\n",
        "import matplotlib.pyplot as plt\n",
        "import seaborn as sns\n",
        "\n",
        "# Load the dataset\n",
        "ds = pd.read_csv('Sleep_health_and_lifestyle_dataset.csv')\n",
        "\n",
        "#  a - Scatter Plot\n",
        "\n",
        "plt.scatter(ds['Age'], ds['Quality of Sleep'])\n",
        "plt.xlabel('Age')\n",
        "plt.ylabel('Quality of Sleep')\n",
        "plt.title('Scatter Plot of Age vs. Quality of Sleep')\n",
        "plt.show()\n",
        "\n",
        "\n",
        "#  b - Box Plot\n",
        "\n",
        "plt.boxplot(ds['Quality of Sleep'])\n",
        "plt.ylabel('Quality of Sleep')\n",
        "plt.title('Box Plot of Quality of Sleep')\n",
        "plt.show()\n",
        "\n",
        "#  c - Histogram\n",
        "\n",
        "plt.hist(ds['Quality of Sleep'], bins=12)\n",
        "plt.xlabel('Quality of Sleep')\n",
        "plt.ylabel('Frequency')\n",
        "plt.title('Histogram of Quality of Sleep')\n",
        "plt.show()\n",
        "\n",
        "#  d - Heat Map\n",
        "\n",
        "numerical_ds = ds.select_dtypes(include=['number'])\n",
        "\n",
        "correlation_matrix = numerical_ds.corr()  # Calculate correlation for numerical columns\n",
        "sns.heatmap(correlation_matrix, annot=True, cmap='coolwarm')\n",
        "plt.title('Heat Map of Correlation')\n",
        "plt.show()\n"
      ],
      "metadata": {
        "colab": {
          "base_uri": "https://localhost:8080/",
          "height": 1000
        },
        "id": "HVlQvs_Y419O",
        "outputId": "bd62766b-a5db-48da-8ac6-f21c1424c0eb"
      },
      "execution_count": null,
      "outputs": [
        {
          "output_type": "display_data",
          "data": {
            "text/plain": [
              "<Figure size 640x480 with 1 Axes>"
            ],
            "image/png": "[encoded data removed]"
          },
          "metadata": {}
        },
        {
          "output_type": "display_data",
          "data": {
            "text/plain": [
              "<Figure size 640x480 with 1 Axes>"
            ],
            "image/png": "[encoded data removed]"
          },
          "metadata": {}
        },
        {
          "output_type": "display_data",
          "data": {
            "text/plain": [
              "<Figure size 640x480 with 1 Axes>"
            ],
            "image/png": "[encoded data removed]"
          },
          "metadata": {}
        },
        {
          "output_type": "display_data",
          "data": {
            "text/plain": [
              "<Figure size 640x480 with 2 Axes>"
            ],
            "image/png": "[encoded data removed]"
          },
          "metadata": {}
        }
      ]
    },
    {
      "cell_type": "markdown",
      "source": [
        "**11.Perform the hypothesis test to find the correlation (Pearson and Spearman for numerical variable and chi-square test for categorical variable) between the independent variable and the dependent variable.**"
      ],
      "metadata": {
        "id": "3r8tYWHHA2FY"
      }
    },
    {
      "cell_type": "code",
      "source": [
        "#Spearman Rank Correlation\n",
        "import pandas as pd\n",
        "from scipy.stats import spearmanr\n",
        "\n",
        "# Load the dataset\n",
        "file_path = \"Sleep_health_and_lifestyle_dataset.csv\"\n",
        "df = pd.read_csv(file_path)\n",
        "\n",
        "# Drop rows with NaN values for Project and Final\n",
        "data = df[['Physical Activity Level', 'Quality of Sleep']].dropna()\n",
        "\n",
        "# Perform Spearman's Correlation Test\n",
        "r, p_value = spearmanr(data['Physical Activity Level'], data['Quality of Sleep'])\n",
        "df_spearman = len(data) - 2\n",
        "\n",
        "# Print the results\n",
        "print(\"Spearman's Correlation Test Results:\")\n",
        "print(f\"Spearman's Correlation Coefficient (r): {r:.4f}\")\n",
        "print(f\"P-Value: {p_value:.4f}\")\n",
        "print(f\"Degrees of Freedom: {df_spearman}\")\n",
        "\n",
        "# Interpretation\n",
        "if p_value < 0.05:\n",
        "    print(\"\\nConclusion: Since the p-value is less than 0.05, we reject the null hypothesis.\")\n",
        "    print(\"There is a statistically significant correlation between Physical Activity Level and Quality of Sleep.\")\n",
        "else:\n",
        "    print(\"\\nConclusion: Since the p-value is greater than 0.05, we accept the null hypothesis.\")\n",
        "    print(\"There is no statistically significant correlation between Physical Activity Level and Quality of Sleep.\")\n"
      ],
      "metadata": {
        "colab": {
          "base_uri": "https://localhost:8080/"
        },
        "id": "NjeMDOquBRX6",
        "outputId": "a51cdb31-358a-4bd6-88e9-95368b89a98e"
      },
      "execution_count": null,
      "outputs": [
        {
          "output_type": "stream",
          "name": "stdout",
          "text": [
            "Spearman's Correlation Test Results:\n",
            "Spearman's Correlation Coefficient (r): 0.1785\n",
            "P-Value: 0.0005\n",
            "Degrees of Freedom: 372\n",
            "\n",
            "Conclusion: Since the p-value is less than 0.05, we reject the null hypothesis.\n",
            "There is a statistically significant correlation between Physical Activity Level and Quality of Sleep.\n"
          ]
        }
      ]
    },
    {
      "cell_type": "code",
      "source": [
        "#pearson correlation\n",
        "from scipy.stats import pearsonr\n",
        "import pandas as pd\n",
        "\n",
        "# Load the dataset\n",
        "df = pd.read_csv(\"Sleep_health_and_lifestyle_dataset.csv\")\n",
        "\n",
        "# Extract Project and Final columns, dropping NaN values\n",
        "Physical_Activity_Level = df['Physical Activity Level'].dropna()\n",
        "Quality_of_Sleep = df['Quality of Sleep'].dropna()\n",
        "\n",
        "# Ensure both series have equal length\n",
        "min_length = min(len(Physical_Activity_Level), len(Quality_of_Sleep))\n",
        "Physical_Activity_Level = Physical_Activity_Level[:min_length]\n",
        "Quality_of_Sleep = Quality_of_Sleep[:min_length]\n",
        "\n",
        "# Calculate Pearson correlation\n",
        "r_value, p_value = pearsonr(Physical_Activity_Level, Quality_of_Sleep)\n",
        "degrees_of_freedom = len(Physical_Activity_Level) - 2\n",
        "\n",
        "# Print results\n",
        "print(f\"Pearson Correlation Coefficient (r): {r_value:.3f}\")\n",
        "print(f\"P-Value: {p_value:.3f}\")\n",
        "print(f\"Degrees of Freedom: {degrees_of_freedom}\")\n",
        "\n",
        "# Interpretation\n",
        "if p_value < 0.05:\n",
        "    print(\"\\nConclusion: Since the p-value is less than 0.05, we reject the null hypothesis.\")\n",
        "    print(\"There is a statistically significant correlation between Physical_Activity_Level and Quality_of_Sleep.\")\n",
        "else:\n",
        "    print(\"\\nConclusion: Since the p-value is greater than 0.05, we accept the null hypothesis.\")\n",
        "    print(\"There is no statistically significant correlation between Physical_Activity_Level and Quality_of_Sleep.\")\n"
      ],
      "metadata": {
        "colab": {
          "base_uri": "https://localhost:8080/"
        },
        "id": "egicywP6B6JC",
        "outputId": "314934d8-af85-4c85-fc52-1ba0f18ab695"
      },
      "execution_count": null,
      "outputs": [
        {
          "output_type": "stream",
          "name": "stdout",
          "text": [
            "Pearson Correlation Coefficient (r): 0.193\n",
            "P-Value: 0.000\n",
            "Degrees of Freedom: 372\n",
            "\n",
            "Conclusion: Since the p-value is less than 0.05, we reject the null hypothesis.\n",
            "There is a statistically significant correlation between Physical_Activity_Level and Quality_of_Sleep.\n"
          ]
        }
      ]
    },
    {
      "cell_type": "markdown",
      "source": [
        "**12.Assess the performance of the dependent variable to know whether the sample is representative of the normal population by a one-sample t-test.**"
      ],
      "metadata": {
        "id": "2wRuqqxxCI_0"
      }
    },
    {
      "cell_type": "code",
      "source": [
        "from scipy.stats import ttest_1samp\n",
        "import pandas as pd\n",
        "\n",
        "# Load the dataset\n",
        "df = pd.read_csv(\"Sleep_health_and_lifestyle_dataset.csv\")\n",
        "\n",
        "# Extract the dependent variable\n",
        "quality_of_sleep = df[\"Quality of Sleep\"].dropna()\n",
        "\n",
        "# Perform one-sample t-test against population mean = 6\n",
        "t_stat, p_value = ttest_1samp(quality_of_sleep, 6)\n",
        "\n",
        "# Output results\n",
        "print(\"Sample Mean:\", quality_of_sleep.mean())\n",
        "print(\"T-test statistic:\", t_stat)\n",
        "print(\"p-value:\", p_value)\n"
      ],
      "metadata": {
        "colab": {
          "base_uri": "https://localhost:8080/"
        },
        "id": "z9HOfc3QCS84",
        "outputId": "79885bc8-b5de-4f20-8394-bb71a98c02ce"
      },
      "execution_count": null,
      "outputs": [
        {
          "output_type": "stream",
          "name": "stdout",
          "text": [
            "Sample Mean: 7.31283422459893\n",
            "T-test statistic: 21.21131209610961\n",
            "p-value: 4.5235135253290017e-66\n"
          ]
        }
      ]
    },
    {
      "cell_type": "markdown",
      "source": [
        "# **CLO 3**"
      ],
      "metadata": {
        "id": "2ou0IR5sDNuV"
      }
    },
    {
      "cell_type": "markdown",
      "source": [
        "**13. Build, Train, Develop and Evaluate using Simple Regression for chosen dataset.**"
      ],
      "metadata": {
        "id": "jCjgaidxfbJA"
      }
    },
    {
      "cell_type": "code",
      "source": [],
      "metadata": {
        "id": "Yk7Mnpo6fkXS"
      },
      "execution_count": null,
      "outputs": []
    },
    {
      "cell_type": "markdown",
      "source": [
        "**14. Develop a script to forecast the value of the dependent variable from all the relevant independent variables using Multiple Linear Regression**"
      ],
      "metadata": {
        "id": "lYkuw8osfk_p"
      }
    },
    {
      "cell_type": "code",
      "source": [],
      "metadata": {
        "id": "APMmz1VNfqmB"
      },
      "execution_count": null,
      "outputs": []
    },
    {
      "cell_type": "markdown",
      "source": [
        "**15. Predict the value of the dependent variable from the different classifier such as Logistic Regression, KNN, Naïve-Bayes and Decision Tree.**"
      ],
      "metadata": {
        "id": "A8nHerrfTf1k"
      }
    },
    {
      "cell_type": "markdown",
      "source": [
        "Logestic Regression"
      ],
      "metadata": {
        "id": "EYoAB6IK1lVd"
      }
    },
    {
      "cell_type": "code",
      "source": [
        "# import Libraries\n",
        "import numpy as np\n",
        "import pandas as pd\n",
        "from sklearn.model_selection import train_test_split\n",
        "from sklearn.preprocessing import StandardScaler, LabelEncoder\n",
        "from sklearn.linear_model import LogisticRegression\n",
        "from sklearn.metrics import confusion_matrix, accuracy_score\n",
        "from sklearn.impute import SimpleImputer\n",
        "\n",
        "# Load data\n",
        "dataset = pd.read_csv('Sleep_health_and_lifestyle_dataset.csv')\n",
        "X = dataset.iloc[:, :-1]\n",
        "y = dataset.iloc[:, -1].values\n",
        "\n",
        "# Convert 'Blood Pressure' to numerical\n",
        "X[['Systolic BP', 'Diastolic BP']] = X['Blood Pressure'].str.split('/', expand=True).astype(float)\n",
        "X = X.drop('Blood Pressure', axis=1)\n",
        "\n",
        "# Encode categorical features\n",
        "categorical_features = ['Gender', 'Occupation', 'BMI Category', 'Quality of Sleep']\n",
        "for feature in categorical_features:\n",
        "    le = LabelEncoder()\n",
        "    X[feature] = le.fit_transform(X[feature])\n",
        "\n",
        "# Split data\n",
        "X_train, X_test, y_train, y_test = train_test_split(X, y, test_size=0.25, random_state=0)\n",
        "\n",
        "# Impute missing values\n",
        "imputer_X = SimpleImputer(strategy='most_frequent')\n",
        "X_train = imputer_X.fit_transform(X_train)\n",
        "X_test = imputer_X.transform(X_test)\n",
        "\n",
        "imputer_y = SimpleImputer(strategy='most_frequent')\n",
        "y_train = imputer_y.fit_transform(y_train.reshape(-1, 1)).ravel()\n",
        "y_test = imputer_y.transform(y_test.reshape(-1, 1)).ravel()\n",
        "\n",
        "# Scale features\n",
        "sc = StandardScaler()\n",
        "X_train = sc.fit_transform(X_train)\n",
        "X_test = sc.transform(X_test)\n",
        "\n",
        "# Train model\n",
        "classifier = LogisticRegression(random_state=0)\n",
        "classifier.fit(X_train, y_train)\n",
        "\n",
        "# Predict\n",
        "y_pred = classifier.predict(X_test)\n",
        "\n",
        "# prediction (using first test data point)\n",
        "input_data = X_test[0].reshape(1, -1)\n",
        "predicted_class = classifier.predict(input_data)[0]\n",
        "print(\"Predicted Sleep Disorder:\", predicted_class)\n",
        "print(\"Actual Sleep Disorder:\", y_test[0])\n"
      ],
      "metadata": {
        "colab": {
          "base_uri": "https://localhost:8080/"
        },
        "id": "5MSuF9aA1X4Z",
        "outputId": "8b18546e-ad14-4710-edf5-61d605f40da2"
      },
      "execution_count": null,
      "outputs": [
        {
          "output_type": "stream",
          "name": "stdout",
          "text": [
            "Predicted Sleep Disorder: Sleep Apnea\n",
            "Actual Sleep Disorder: Sleep Apnea\n"
          ]
        }
      ]
    },
    {
      "cell_type": "markdown",
      "source": [
        "KNN"
      ],
      "metadata": {
        "id": "ZcTTGfS8ESfB"
      }
    },
    {
      "cell_type": "code",
      "source": [
        "# importing Libraries\n",
        "import pandas as pd\n",
        "from sklearn.model_selection import train_test_split\n",
        "from sklearn.neighbors import KNeighborsClassifier\n",
        "from sklearn.metrics import confusion_matrix, accuracy_score\n",
        "from sklearn.preprocessing import LabelEncoder, StandardScaler\n",
        "from sklearn.impute import SimpleImputer\n",
        "\n",
        "# Load data\n",
        "data = pd.read_csv('Sleep_health_and_lifestyle_dataset.csv')\n",
        "\n",
        "# Feature Engineering: Convert 'Blood Pressure' to numerical\n",
        "data[['Systolic BP', 'Diastolic BP']] = data['Blood Pressure'].str.split('/', expand=True).astype(float)\n",
        "data = data.drop('Blood Pressure', axis=1)\n",
        "\n",
        "# Encode categorical features\n",
        "categorical_features = ['Gender', 'Occupation', 'BMI Category', 'Quality of Sleep']\n",
        "for feature in categorical_features:\n",
        "    data[feature] = LabelEncoder().fit_transform(data[feature])\n",
        "\n",
        "# Separate features (X) and target (y)\n",
        "X = data.drop('Sleep Disorder', axis=1)\n",
        "y = data['Sleep Disorder']\n",
        "\n",
        "# Split data\n",
        "X_train, X_test, y_train, y_test = train_test_split(X, y, test_size=0.25, random_state=0)\n",
        "\n",
        "# Impute missing values\n",
        "imputer = SimpleImputer(strategy='most_frequent')\n",
        "X_train = imputer.fit_transform(X_train)\n",
        "X_test = imputer.transform(X_test)\n",
        "y_train = imputer.fit_transform(y_train.values.reshape(-1, 1)).ravel()\n",
        "y_test = imputer.transform(y_test.values.reshape(-1, 1)).ravel()\n",
        "\n",
        "# Scale features\n",
        "scaler = StandardScaler()\n",
        "X_train = scaler.fit_transform(X_train)\n",
        "X_test = scaler.transform(X_test)\n",
        "\n",
        "# Train KNN model\n",
        "knn_classifier = KNeighborsClassifier(n_neighbors=5, p=2)\n",
        "knn_classifier.fit(X_train, y_train)\n",
        "\n",
        "# Predict for the first data point\n",
        "existing_data_point = X_test[0].reshape(1, -1)\n",
        "predicted_class = knn_classifier.predict(existing_data_point)[0]\n",
        "print(\"Predicted Sleep Disorder:\", predicted_class)\n",
        "print(\"Actual Sleep Disorder:\", y_test[0])\n"
      ],
      "metadata": {
        "colab": {
          "base_uri": "https://localhost:8080/"
        },
        "id": "EK7Mt4JUEipd",
        "outputId": "2ba542a2-9b67-46a1-e5b1-a041fb1d0ea0"
      },
      "execution_count": null,
      "outputs": [
        {
          "output_type": "stream",
          "name": "stdout",
          "text": [
            "Predicted Sleep Disorder: Sleep Apnea\n",
            "Actual Sleep Disorder: Sleep Apnea\n"
          ]
        }
      ]
    },
    {
      "cell_type": "markdown",
      "source": [
        "Naïve-Bayes"
      ],
      "metadata": {
        "id": "Wk7iqjmrEmxn"
      }
    },
    {
      "cell_type": "code",
      "source": [
        "# importing Libraries\n",
        "import numpy as np\n",
        "import pandas as pd\n",
        "from sklearn.model_selection import train_test_split\n",
        "from sklearn.preprocessing import StandardScaler, LabelEncoder\n",
        "from sklearn.impute import SimpleImputer\n",
        "from sklearn.naive_bayes import GaussianNB\n",
        "from sklearn.metrics import confusion_matrix, accuracy_score\n",
        "\n",
        "# Load data\n",
        "dataset = pd.read_csv('Sleep_health_and_lifestyle_dataset.csv')\n",
        "X = dataset.iloc[:, :-1]\n",
        "y = dataset.iloc[:, -1].values\n",
        "\n",
        "# Convert 'Blood Pressure' to numerical\n",
        "X[['Systolic BP', 'Diastolic BP']] = X['Blood Pressure'].str.split('/', expand=True).astype(float)\n",
        "X = X.drop('Blood Pressure', axis=1)\n",
        "\n",
        "# Encode categorical features\n",
        "categorical_features = ['Gender', 'Occupation', 'BMI Category', 'Quality of Sleep']\n",
        "label_encoders = {}\n",
        "for feature in categorical_features:\n",
        "    le = LabelEncoder()\n",
        "    le.fit(pd.Series(X[feature].astype(str).unique().tolist() + ['1']))\n",
        "    X[feature] = le.transform(X[feature].astype(str))\n",
        "    label_encoders[feature] = le\n",
        "\n",
        "# Split data\n",
        "X_train, X_test, y_train, y_test = train_test_split(X, y, test_size=0.25, random_state=0)\n",
        "\n",
        "# Impute missing values\n",
        "imputer = SimpleImputer(strategy='most_frequent')\n",
        "y_train = imputer.fit_transform(y_train.reshape(-1, 1)).ravel()\n",
        "y_test = imputer.transform(y_test.reshape(-1, 1)).ravel()\n",
        "\n",
        "# Scale features\n",
        "sc = StandardScaler()\n",
        "X_train = sc.fit_transform(X_train)\n",
        "X_test = sc.transform(X_test)\n",
        "\n",
        "# Train Naive Bayes model\n",
        "classifier = GaussianNB()\n",
        "classifier.fit(X_train, y_train)\n",
        "\n",
        "# Predict for the first data point\n",
        "input_data = X_test[0].reshape(1, -1)\n",
        "predicted_class = classifier.predict(input_data)[0]\n",
        "print(\"Predicted Sleep Disorder:\", predicted_class)\n",
        "print(\"Actual Sleep Disorder:\", y_test[0])\n"
      ],
      "metadata": {
        "colab": {
          "base_uri": "https://localhost:8080/"
        },
        "id": "efVYZWLAFr-K",
        "outputId": "907a1bd3-90e0-4713-9443-4aed4673b0f3"
      },
      "execution_count": null,
      "outputs": [
        {
          "output_type": "stream",
          "name": "stdout",
          "text": [
            "Predicted Sleep Disorder: Sleep Apnea\n",
            "Actual Sleep Disorder: Sleep Apnea\n"
          ]
        }
      ]
    },
    {
      "cell_type": "markdown",
      "source": [
        "Decision Tree"
      ],
      "metadata": {
        "id": "qKYjqIQhF3zL"
      }
    },
    {
      "cell_type": "code",
      "source": [
        "# importing Libraries\n",
        "import numpy as np\n",
        "import matplotlib.pyplot as plt\n",
        "import pandas as pd\n",
        "from sklearn.model_selection import train_test_split\n",
        "from sklearn.preprocessing import StandardScaler, LabelEncoder\n",
        "from sklearn.impute import SimpleImputer\n",
        "from sklearn.tree import DecisionTreeClassifier\n",
        "from sklearn.metrics import confusion_matrix, accuracy_score\n",
        "\n",
        "# Load data\n",
        "dataset = pd.read_csv('Sleep_health_and_lifestyle_dataset.csv')\n",
        "X = dataset.iloc[:, :-1]\n",
        "y = dataset.iloc[:, -1].values\n",
        "\n",
        "# Convert 'Blood Pressure' to numerical\n",
        "X[['Systolic BP', 'Diastolic BP']] = X['Blood Pressure'].str.split('/', expand=True).astype(float)\n",
        "X = X.drop('Blood Pressure', axis=1)\n",
        "\n",
        "# Encode categorical features\n",
        "categorical_features = ['Gender', 'Occupation', 'BMI Category', 'Quality of Sleep']\n",
        "label_encoders = {}\n",
        "for feature in categorical_features:\n",
        "    le = LabelEncoder()\n",
        "    X[feature] = le.fit_transform(X[feature])\n",
        "    label_encoders[feature] = le\n",
        "\n",
        "# Split data\n",
        "X_train, X_test, y_train, y_test = train_test_split(X, y, test_size=0.25, random_state=0)\n",
        "\n",
        "# Impute missing values\n",
        "imputer = SimpleImputer(strategy='most_frequent')\n",
        "y_train = imputer.fit_transform(y_train.reshape(-1, 1)).ravel()\n",
        "y_test = imputer.transform(y_test.reshape(-1, 1)).ravel()\n",
        "\n",
        "# Scale features\n",
        "sc = StandardScaler()\n",
        "X_train = sc.fit_transform(X_train)\n",
        "X_test = sc.transform(X_test)\n",
        "\n",
        "# Train Decision Tree model\n",
        "classifier = DecisionTreeClassifier(criterion='entropy', random_state=0)\n",
        "classifier.fit(X_train, y_train)\n",
        "\n",
        "# Predict for the first data point\n",
        "input_data = X_test[0].reshape(1, -1)\n",
        "predicted_class = classifier.predict(input_data)[0]\n",
        "print(\"Predicted Sleep Disorder:\", predicted_class)\n",
        "print(\"Actual Sleep Disorder:\", y_test[0])\n"
      ],
      "metadata": {
        "colab": {
          "base_uri": "https://localhost:8080/"
        },
        "id": "cf3kh0A1F6Vp",
        "outputId": "a6ceb00a-0221-48ef-ad9c-3839b766751b"
      },
      "execution_count": null,
      "outputs": [
        {
          "output_type": "stream",
          "name": "stdout",
          "text": [
            "Predicted Sleep Disorder: Sleep Apnea\n",
            "Actual Sleep Disorder: Sleep Apnea\n"
          ]
        }
      ]
    },
    {
      "cell_type": "markdown",
      "source": [
        "**16. Evaluate the performance of each model using confusion matrix and accuracy and identify the best fit classifier for the chosen dataset.**"
      ],
      "metadata": {
        "id": "6T7NW7JUCfqH"
      }
    },
    {
      "cell_type": "code",
      "source": [
        "# Import libraries\n",
        "import pandas as pd\n",
        "from sklearn.model_selection import train_test_split\n",
        "from sklearn.preprocessing import LabelEncoder\n",
        "from sklearn.metrics import confusion_matrix, accuracy_score\n",
        "from sklearn.linear_model import LogisticRegression\n",
        "from sklearn.neighbors import KNeighborsClassifier\n",
        "from sklearn.naive_bayes import GaussianNB\n",
        "from sklearn.tree import DecisionTreeClassifier\n",
        "\n",
        "# Load your dataset\n",
        "df = pd.read_csv(\"Sleep_health_and_lifestyle_dataset.csv\")\n",
        "\n",
        "# Select relevant columns\n",
        "df_clean = df[['Quality of Sleep', 'Physical Activity Level', 'Stress Level', 'Sleep Disorder']].dropna()\n",
        "\n",
        "# Encode categorical target\n",
        "label_encoder = LabelEncoder()\n",
        "df_clean['Sleep Disorder'] = label_encoder.fit_transform(df_clean['Sleep Disorder'])\n",
        "\n",
        "# Features and target\n",
        "X = df_clean[['Quality of Sleep', 'Physical Activity Level', 'Stress Level']]\n",
        "y = df_clean['Sleep Disorder']\n",
        "\n",
        "# Split data\n",
        "X_train, X_test, y_train, y_test = train_test_split(X, y, test_size=0.3, random_state=42)\n",
        "\n",
        "# Define models\n",
        "models = {\n",
        "    \"Logistic Regression\": LogisticRegression(max_iter=1000),\n",
        "    \"K-Nearest Neighbors\": KNeighborsClassifier(),\n",
        "    \"Naive Bayes\": GaussianNB(),\n",
        "    \"Decision Tree\": DecisionTreeClassifier()\n",
        "}\n",
        "\n",
        "# Train and evaluate\n",
        "for name, model in models.items():\n",
        "    model.fit(X_train, y_train)\n",
        "    y_pred = model.predict(X_test)\n",
        "    acc = accuracy_score(y_test, y_pred)\n",
        "    cm = confusion_matrix(y_test, y_pred)\n",
        "\n",
        "    print(f\"Model: {name}\")\n",
        "    print(\"Accuracy:\", round(acc * 100, 2), \"%\")\n",
        "    print(\"Confusion Matrix:\\n\", cm)\n",
        "    print(\"-\" * 40)"
      ],
      "metadata": {
        "colab": {
          "base_uri": "https://localhost:8080/"
        },
        "id": "vxqbnejICne0",
        "outputId": "18a5abe0-b1b0-4e74-fd03-0e54b0573b08"
      },
      "execution_count": null,
      "outputs": [
        {
          "output_type": "stream",
          "name": "stdout",
          "text": [
            "Model: Logistic Regression\n",
            "Accuracy: 80.85 %\n",
            "Confusion Matrix:\n",
            " [[21  4]\n",
            " [ 5 17]]\n",
            "----------------------------------------\n",
            "Model: K-Nearest Neighbors\n",
            "Accuracy: 85.11 %\n",
            "Confusion Matrix:\n",
            " [[21  4]\n",
            " [ 3 19]]\n",
            "----------------------------------------\n",
            "Model: Naive Bayes\n",
            "Accuracy: 78.72 %\n",
            "Confusion Matrix:\n",
            " [[20  5]\n",
            " [ 5 17]]\n",
            "----------------------------------------\n",
            "Model: Decision Tree\n",
            "Accuracy: 85.11 %\n",
            "Confusion Matrix:\n",
            " [[23  2]\n",
            " [ 5 17]]\n",
            "----------------------------------------\n"
          ]
        }
      ]
    },
    {
      "cell_type": "markdown",
      "source": [
        "**17.Predict the dependent variable by using best-fit classifier.**"
      ],
      "metadata": {
        "id": "zjO-szqOCvUf"
      }
    },
    {
      "cell_type": "code",
      "source": [
        "# Import libraries\n",
        "import pandas as pd\n",
        "from sklearn.model_selection import train_test_split\n",
        "from sklearn.preprocessing import LabelEncoder\n",
        "from sklearn.tree import DecisionTreeClassifier\n",
        "\n",
        "# Load the dataset\n",
        "df = pd.read_csv(\"Sleep_health_and_lifestyle_dataset.csv\")  # Make sure the file path is correct\n",
        "\n",
        "# Clean and prepare data\n",
        "df_clean = df[['Quality of Sleep', 'Physical Activity Level', 'Stress Level', 'Sleep Disorder']].dropna()\n",
        "\n",
        "# Encode the target variable\n",
        "label_encoder = LabelEncoder()\n",
        "df_clean['Sleep Disorder'] = label_encoder.fit_transform(df_clean['Sleep Disorder'])\n",
        "\n",
        "# Split data into features and target\n",
        "X = df_clean[['Quality of Sleep', 'Physical Activity Level', 'Stress Level']]\n",
        "y = df_clean['Sleep Disorder']\n",
        "\n",
        "# Split into train and test datasets\n",
        "X_train, X_test, y_train, y_test = train_test_split(X, y, test_size=0.3, random_state=42)\n",
        "\n",
        "# Train Decision Tree classifier\n",
        "model = DecisionTreeClassifier()\n",
        "model.fit(X_train, y_train)\n",
        "\n",
        "# Predict on the test dataset\n",
        "y_pred = model.predict(X_test)\n",
        "\n",
        "# Compare the first 5 results\n",
        "comparison = pd.DataFrame({\n",
        "    'Actual': y_test.values[:5],\n",
        "    'Predicted': y_pred[:5]\n",
        "})\n",
        "\n",
        "print(\"First 5 Predictions vs Actual:\")\n",
        "print(comparison)\n"
      ],
      "metadata": {
        "colab": {
          "base_uri": "https://localhost:8080/"
        },
        "id": "MtzVKbINC1mH",
        "outputId": "9ebb3328-436d-49b9-a9e6-4b1705c6c502"
      },
      "execution_count": null,
      "outputs": [
        {
          "output_type": "stream",
          "name": "stdout",
          "text": [
            "First 5 Predictions vs Actual:\n",
            "   Actual  Predicted\n",
            "0       0          0\n",
            "1       1          1\n",
            "2       0          0\n",
            "3       0          0\n",
            "4       0          0\n"
          ]
        }
      ]
    },
    {
      "cell_type": "markdown",
      "source": [
        "**18. Perform the cluster analysis such as K-means and Horizontal for any field from the chosen dataset.**"
      ],
      "metadata": {
        "id": "hdb-QZw6fyWN"
      }
    },
    {
      "cell_type": "code",
      "source": [],
      "metadata": {
        "id": "H4KJUJKWf41O"
      },
      "execution_count": null,
      "outputs": []
    },
    {
      "cell_type": "markdown",
      "source": [
        "**19. Explain the strategy for improving the system after viewing the cluster diagram.**"
      ],
      "metadata": {
        "id": "kIRLDh5af5Q9"
      }
    },
    {
      "cell_type": "code",
      "source": [],
      "metadata": {
        "id": "FXPHyUnJf_11"
      },
      "execution_count": null,
      "outputs": []
    }
  ]
}